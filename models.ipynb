{
 "cells": [
  {
   "cell_type": "markdown",
   "id": "9858e398",
   "metadata": {},
   "source": [
    "# College Student Stress Classifier\n",
    "\n",
    "In this file we:\n",
    "- Import and preprocess college student stress data\n",
    "- Test various classifiers for college student stress\n",
    "- View the feature importances of our best-performing classifier to gain insights"
   ]
  },
  {
   "cell_type": "markdown",
   "id": "448d07d5",
   "metadata": {},
   "source": [
    "### Import Libraries & Data"
   ]
  },
  {
   "cell_type": "code",
   "execution_count": 13,
   "id": "a152a98d",
   "metadata": {},
   "outputs": [],
   "source": [
    "import pandas as pd\n",
    "import numpy as np\n",
    "import matplotlib.pyplot as plt\n",
    "import seaborn as sns\n",
    "import joblib\n",
    "\n",
    "# import preprocessing libraries\n",
    "from sklearn.preprocessing import StandardScaler\n",
    "from sklearn.model_selection import train_test_split\n",
    "from sklearn.metrics import accuracy_score, classification_report, confusion_matrix\n",
    "from sklearn.model_selection import train_test_split\n",
    "from sklearn.metrics import precision_score, recall_score, f1_score, accuracy_score\n",
    "\n",
    "# import classification libraries\n",
    "from sklearn.linear_model import LogisticRegression\n",
    "from sklearn.ensemble import RandomForestClassifier\n",
    "from tensorflow.keras.models import Sequential\n",
    "from tensorflow.keras.layers import Dense\n",
    "from tensorflow.keras.optimizers import Adam\n",
    "from tensorflow.keras.utils import to_categorical"
   ]
  },
  {
   "cell_type": "code",
   "execution_count": 14,
   "id": "da08cce7",
   "metadata": {},
   "outputs": [
    {
     "data": {
      "text/html": [
       "<div>\n",
       "<style scoped>\n",
       "    .dataframe tbody tr th:only-of-type {\n",
       "        vertical-align: middle;\n",
       "    }\n",
       "\n",
       "    .dataframe tbody tr th {\n",
       "        vertical-align: top;\n",
       "    }\n",
       "\n",
       "    .dataframe thead th {\n",
       "        text-align: right;\n",
       "    }\n",
       "</style>\n",
       "<table border=\"1\" class=\"dataframe\">\n",
       "  <thead>\n",
       "    <tr style=\"text-align: right;\">\n",
       "      <th></th>\n",
       "      <th>anxiety_level</th>\n",
       "      <th>self_esteem</th>\n",
       "      <th>mental_health_history</th>\n",
       "      <th>depression</th>\n",
       "      <th>headache</th>\n",
       "      <th>blood_pressure</th>\n",
       "      <th>sleep_quality</th>\n",
       "      <th>breathing_problem</th>\n",
       "      <th>noise_level</th>\n",
       "      <th>living_conditions</th>\n",
       "      <th>...</th>\n",
       "      <th>basic_needs</th>\n",
       "      <th>academic_performance</th>\n",
       "      <th>study_load</th>\n",
       "      <th>teacher_student_relationship</th>\n",
       "      <th>future_career_concerns</th>\n",
       "      <th>social_support</th>\n",
       "      <th>peer_pressure</th>\n",
       "      <th>extracurricular_activities</th>\n",
       "      <th>bullying</th>\n",
       "      <th>stress_level</th>\n",
       "    </tr>\n",
       "  </thead>\n",
       "  <tbody>\n",
       "    <tr>\n",
       "      <th>0</th>\n",
       "      <td>14</td>\n",
       "      <td>20</td>\n",
       "      <td>0</td>\n",
       "      <td>11</td>\n",
       "      <td>2</td>\n",
       "      <td>1</td>\n",
       "      <td>2</td>\n",
       "      <td>4</td>\n",
       "      <td>2</td>\n",
       "      <td>3</td>\n",
       "      <td>...</td>\n",
       "      <td>2</td>\n",
       "      <td>3</td>\n",
       "      <td>2</td>\n",
       "      <td>3</td>\n",
       "      <td>3</td>\n",
       "      <td>2</td>\n",
       "      <td>3</td>\n",
       "      <td>3</td>\n",
       "      <td>2</td>\n",
       "      <td>1</td>\n",
       "    </tr>\n",
       "    <tr>\n",
       "      <th>1</th>\n",
       "      <td>15</td>\n",
       "      <td>8</td>\n",
       "      <td>1</td>\n",
       "      <td>15</td>\n",
       "      <td>5</td>\n",
       "      <td>3</td>\n",
       "      <td>1</td>\n",
       "      <td>4</td>\n",
       "      <td>3</td>\n",
       "      <td>1</td>\n",
       "      <td>...</td>\n",
       "      <td>2</td>\n",
       "      <td>1</td>\n",
       "      <td>4</td>\n",
       "      <td>1</td>\n",
       "      <td>5</td>\n",
       "      <td>1</td>\n",
       "      <td>4</td>\n",
       "      <td>5</td>\n",
       "      <td>5</td>\n",
       "      <td>2</td>\n",
       "    </tr>\n",
       "    <tr>\n",
       "      <th>2</th>\n",
       "      <td>12</td>\n",
       "      <td>18</td>\n",
       "      <td>1</td>\n",
       "      <td>14</td>\n",
       "      <td>2</td>\n",
       "      <td>1</td>\n",
       "      <td>2</td>\n",
       "      <td>2</td>\n",
       "      <td>2</td>\n",
       "      <td>2</td>\n",
       "      <td>...</td>\n",
       "      <td>2</td>\n",
       "      <td>2</td>\n",
       "      <td>3</td>\n",
       "      <td>3</td>\n",
       "      <td>2</td>\n",
       "      <td>2</td>\n",
       "      <td>3</td>\n",
       "      <td>2</td>\n",
       "      <td>2</td>\n",
       "      <td>1</td>\n",
       "    </tr>\n",
       "    <tr>\n",
       "      <th>3</th>\n",
       "      <td>16</td>\n",
       "      <td>12</td>\n",
       "      <td>1</td>\n",
       "      <td>15</td>\n",
       "      <td>4</td>\n",
       "      <td>3</td>\n",
       "      <td>1</td>\n",
       "      <td>3</td>\n",
       "      <td>4</td>\n",
       "      <td>2</td>\n",
       "      <td>...</td>\n",
       "      <td>2</td>\n",
       "      <td>2</td>\n",
       "      <td>4</td>\n",
       "      <td>1</td>\n",
       "      <td>4</td>\n",
       "      <td>1</td>\n",
       "      <td>4</td>\n",
       "      <td>4</td>\n",
       "      <td>5</td>\n",
       "      <td>2</td>\n",
       "    </tr>\n",
       "    <tr>\n",
       "      <th>4</th>\n",
       "      <td>16</td>\n",
       "      <td>28</td>\n",
       "      <td>0</td>\n",
       "      <td>7</td>\n",
       "      <td>2</td>\n",
       "      <td>3</td>\n",
       "      <td>5</td>\n",
       "      <td>1</td>\n",
       "      <td>3</td>\n",
       "      <td>2</td>\n",
       "      <td>...</td>\n",
       "      <td>3</td>\n",
       "      <td>4</td>\n",
       "      <td>3</td>\n",
       "      <td>1</td>\n",
       "      <td>2</td>\n",
       "      <td>1</td>\n",
       "      <td>5</td>\n",
       "      <td>0</td>\n",
       "      <td>5</td>\n",
       "      <td>1</td>\n",
       "    </tr>\n",
       "  </tbody>\n",
       "</table>\n",
       "<p>5 rows × 21 columns</p>\n",
       "</div>"
      ],
      "text/plain": [
       "   anxiety_level  self_esteem  mental_health_history  depression  headache  \\\n",
       "0             14           20                      0          11         2   \n",
       "1             15            8                      1          15         5   \n",
       "2             12           18                      1          14         2   \n",
       "3             16           12                      1          15         4   \n",
       "4             16           28                      0           7         2   \n",
       "\n",
       "   blood_pressure  sleep_quality  breathing_problem  noise_level  \\\n",
       "0               1              2                  4            2   \n",
       "1               3              1                  4            3   \n",
       "2               1              2                  2            2   \n",
       "3               3              1                  3            4   \n",
       "4               3              5                  1            3   \n",
       "\n",
       "   living_conditions  ...  basic_needs  academic_performance  study_load  \\\n",
       "0                  3  ...            2                     3           2   \n",
       "1                  1  ...            2                     1           4   \n",
       "2                  2  ...            2                     2           3   \n",
       "3                  2  ...            2                     2           4   \n",
       "4                  2  ...            3                     4           3   \n",
       "\n",
       "   teacher_student_relationship  future_career_concerns  social_support  \\\n",
       "0                             3                       3               2   \n",
       "1                             1                       5               1   \n",
       "2                             3                       2               2   \n",
       "3                             1                       4               1   \n",
       "4                             1                       2               1   \n",
       "\n",
       "   peer_pressure  extracurricular_activities  bullying  stress_level  \n",
       "0              3                           3         2             1  \n",
       "1              4                           5         5             2  \n",
       "2              3                           2         2             1  \n",
       "3              4                           4         5             2  \n",
       "4              5                           0         5             1  \n",
       "\n",
       "[5 rows x 21 columns]"
      ]
     },
     "execution_count": 14,
     "metadata": {},
     "output_type": "execute_result"
    }
   ],
   "source": [
    "df = pd.read_csv('data/StressLevelDataset.csv')\n",
    "df.head()"
   ]
  },
  {
   "cell_type": "markdown",
   "id": "af036728",
   "metadata": {},
   "source": [
    "### Data Exploration"
   ]
  },
  {
   "cell_type": "markdown",
   "id": "257f34f5",
   "metadata": {},
   "source": [
    "First, some quick checks."
   ]
  },
  {
   "cell_type": "code",
   "execution_count": 15,
   "id": "45026741",
   "metadata": {},
   "outputs": [
    {
     "name": "stdout",
     "output_type": "stream",
     "text": [
      "Data Types:\n",
      "anxiety_level                   int64\n",
      "self_esteem                     int64\n",
      "mental_health_history           int64\n",
      "depression                      int64\n",
      "headache                        int64\n",
      "blood_pressure                  int64\n",
      "sleep_quality                   int64\n",
      "breathing_problem               int64\n",
      "noise_level                     int64\n",
      "living_conditions               int64\n",
      "safety                          int64\n",
      "basic_needs                     int64\n",
      "academic_performance            int64\n",
      "study_load                      int64\n",
      "teacher_student_relationship    int64\n",
      "future_career_concerns          int64\n",
      "social_support                  int64\n",
      "peer_pressure                   int64\n",
      "extracurricular_activities      int64\n",
      "bullying                        int64\n",
      "stress_level                    int64\n",
      "dtype: object\n",
      "--------------------------------\n",
      "\n",
      "Missing Values:\n",
      "anxiety_level                   0\n",
      "self_esteem                     0\n",
      "mental_health_history           0\n",
      "depression                      0\n",
      "headache                        0\n",
      "blood_pressure                  0\n",
      "sleep_quality                   0\n",
      "breathing_problem               0\n",
      "noise_level                     0\n",
      "living_conditions               0\n",
      "safety                          0\n",
      "basic_needs                     0\n",
      "academic_performance            0\n",
      "study_load                      0\n",
      "teacher_student_relationship    0\n",
      "future_career_concerns          0\n",
      "social_support                  0\n",
      "peer_pressure                   0\n",
      "extracurricular_activities      0\n",
      "bullying                        0\n",
      "stress_level                    0\n",
      "dtype: int64\n",
      "--------------------------------\n",
      "\n",
      "Duplicate Rows:\n",
      "0\n",
      "--------------------------------\n",
      "\n",
      "DataFrame Shape:\n",
      "(1100, 21)\n"
     ]
    }
   ],
   "source": [
    "# check data types\n",
    "print(\"Data Types:\")\n",
    "print(df.dtypes)\n",
    "print(\"--------------------------------\")\n",
    "\n",
    "# check for missing values\n",
    "print(\"\\nMissing Values:\")\n",
    "print(df.isnull().sum())\n",
    "print(\"--------------------------------\")\n",
    "\n",
    "# check for duplicate rows\n",
    "print(\"\\nDuplicate Rows:\")\n",
    "print(df.duplicated().sum())\n",
    "print(\"--------------------------------\")\n",
    "\n",
    "# check dataframe shape\n",
    "print(\"\\nDataFrame Shape:\")\n",
    "print(df.shape)"
   ]
  },
  {
   "cell_type": "markdown",
   "id": "722a548b",
   "metadata": {},
   "source": [
    "No missing data, and all values are ints! "
   ]
  },
  {
   "cell_type": "markdown",
   "id": "322bab78",
   "metadata": {},
   "source": [
    "Next, lets make sure stress level has even counts across each level."
   ]
  },
  {
   "cell_type": "code",
   "execution_count": 16,
   "id": "da5aa9d8",
   "metadata": {},
   "outputs": [
    {
     "data": {
      "image/png": "[encoded data removed]",
      "text/plain": [
       "<Figure size 640x480 with 1 Axes>"
      ]
     },
     "metadata": {},
     "output_type": "display_data"
    }
   ],
   "source": [
    "# bar graph of stress level\n",
    "plt.bar(df['stress_level'].value_counts().index, df['stress_level'].value_counts().values)\n",
    "plt.xlabel('Stress Level')\n",
    "plt.ylabel('Count')\n",
    "plt.xticks(df['stress_level'].value_counts().index, df['stress_level'].value_counts().index)\n",
    "plt.title('Stress Level Distribution')\n",
    "plt.show()"
   ]
  },
  {
   "cell_type": "markdown",
   "id": "9aedfc86",
   "metadata": {},
   "source": [
    "Distribution looks approximately uniform!"
   ]
  },
  {
   "cell_type": "markdown",
   "id": "326badef",
   "metadata": {},
   "source": [
    "Next, lets distinguish our variables, we'll need these lists later!"
   ]
  },
  {
   "cell_type": "code",
   "execution_count": 17,
   "id": "1ce30c6c",
   "metadata": {},
   "outputs": [],
   "source": [
    "categorical_vars = ['headache', 'blood_pressure', 'sleep_quality', 'breathing_problem', 'noise_level', 'living_conditions', \n",
    "'safety', 'basic_needs', 'academic_performance', 'study_load', 'teacher_student_relationship', \n",
    "'social_support', 'peer_pressure', 'future_career_concerns', 'extracurricular_activities', 'bullying']\n",
    "\n",
    "binary_vars = ['mental_health_history']\n",
    "\n",
    "target_var = ['stress_level']\n",
    "\n",
    "continuous_vars = ['anxiety_level', 'self_esteem', 'depression']"
   ]
  },
  {
   "cell_type": "markdown",
   "id": "9f53e562",
   "metadata": {},
   "source": [
    "Random forests do not need one-hot-encoding or scaling, so we are already prepared to create our first model!"
   ]
  },
  {
   "cell_type": "markdown",
   "id": "1b3de96b",
   "metadata": {},
   "source": [
    "### Random Forest Classifier"
   ]
  },
  {
   "cell_type": "code",
   "execution_count": 18,
   "id": "0a015c92",
   "metadata": {},
   "outputs": [
    {
     "name": "stdout",
     "output_type": "stream",
     "text": [
      "Classification Report:\n",
      "              precision    recall  f1-score   support\n",
      "\n",
      "           0       0.93      0.84      0.88        74\n",
      "           1       0.89      0.93      0.91        72\n",
      "           2       0.86      0.91      0.88        74\n",
      "\n",
      "    accuracy                           0.89       220\n",
      "   macro avg       0.89      0.89      0.89       220\n",
      "weighted avg       0.89      0.89      0.89       220\n",
      "\n",
      "--------------------------------\n",
      "Confusion Matrix:\n",
      "[[62  4  8]\n",
      " [ 2 67  3]\n",
      " [ 3  4 67]]\n",
      "--------------------------------\n",
      "Accuracy:\n",
      "0.8909090909090909\n",
      "--------------------------------\n"
     ]
    },
    {
     "data": {
      "image/png": "[encoded data removed]",
      "text/plain": [
       "<Figure size 1200x600 with 1 Axes>"
      ]
     },
     "metadata": {},
     "output_type": "display_data"
    },
    {
     "name": "stdout",
     "output_type": "stream",
     "text": [
      "--------------------------------\n",
      "Feature Importance:\n",
      "blood_pressure: 0.1452\n",
      "sleep_quality: 0.0809\n",
      "teacher_student_relationship: 0.0713\n",
      "academic_performance: 0.0664\n",
      "basic_needs: 0.0661\n",
      "depression: 0.0654\n",
      "self_esteem: 0.0638\n",
      "social_support: 0.0572\n",
      "anxiety_level: 0.0563\n",
      "bullying: 0.0500\n",
      "safety: 0.0480\n",
      "peer_pressure: 0.0431\n",
      "extracurricular_activities: 0.0425\n",
      "future_career_concerns: 0.0402\n",
      "headache: 0.0313\n",
      "living_conditions: 0.0202\n",
      "study_load: 0.0190\n",
      "noise_level: 0.0171\n",
      "breathing_problem: 0.0114\n",
      "mental_health_history: 0.0045\n"
     ]
    }
   ],
   "source": [
    "# Define features (X) and target (y)\n",
    "X = df.drop('stress_level', axis=1)\n",
    "y = df['stress_level']\n",
    "\n",
    "# Split into train and test sets (80% train, 20% test, stratify to preserve class distribution)\n",
    "X_train, X_test, y_train, y_test = train_test_split(\n",
    "    X, y, test_size=0.2, random_state=42, stratify=y\n",
    ")\n",
    "\n",
    "# create random forest model\n",
    "model = RandomForestClassifier(n_estimators=100, random_state=42)\n",
    "model.fit(X_train, y_train)\n",
    "rf = model\n",
    "\n",
    "# test/evaluate model\n",
    "y_pred = model.predict(X_test)\n",
    "\n",
    "# print classification report\n",
    "print(\"Classification Report:\")\n",
    "print(classification_report(y_test, y_pred))\n",
    "print(\"--------------------------------\")\n",
    "\n",
    "# print confusion matrix\n",
    "print(\"Confusion Matrix:\")\n",
    "print(confusion_matrix(y_test, y_pred))\n",
    "print(\"--------------------------------\")\n",
    "\n",
    "# print accuracy\n",
    "print(\"Accuracy:\")\n",
    "print(accuracy_score(y_test, y_pred))\n",
    "print(\"--------------------------------\")\n",
    "\n",
    "# Calculate precision, recall, f1, and accuracy by class\n",
    "classes = sorted(y.unique())\n",
    "precision = precision_score(y_test, y_pred, average=None, labels=classes, zero_division=0)\n",
    "recall = recall_score(y_test, y_pred, average=None, labels=classes, zero_division=0)\n",
    "f1 = f1_score(y_test, y_pred, average=None, labels=classes, zero_division=0)\n",
    "# For per-class accuracy: proportion of correct predictions for each class\n",
    "accuracy_per_class = []\n",
    "for cls in classes:\n",
    "    idx = (y_test == cls)\n",
    "    acc = accuracy_score(y_test[idx], y_pred[idx])\n",
    "    accuracy_per_class.append(acc)\n",
    "metrics_df = pd.DataFrame({\n",
    "    'Class': classes,\n",
    "    'Precision': precision,\n",
    "    'Recall': recall,\n",
    "    'F1 Score': f1,\n",
    "    'Accuracy': accuracy_per_class\n",
    "})\n",
    "metrics_df_melted = metrics_df.melt(id_vars='Class', var_name='Metric', value_name='Score')\n",
    "plt.figure(figsize=(12, 6))\n",
    "sns.barplot(data=metrics_df_melted, x='Class', y='Score', hue='Metric')\n",
    "plt.ylim(0, 1.05)\n",
    "plt.title('Per-Class Metrics: Precision, Recall, F1 Score, and Accuracy')\n",
    "plt.ylabel('Score')\n",
    "plt.xlabel('Stress Level Class')\n",
    "plt.legend(loc='lower right')\n",
    "plt.show()\n",
    "print(\"--------------------------------\")\n",
    "\n",
    "# print feature importance\n",
    "print(\"Feature Importance:\")\n",
    "feature_importances = list(zip(X.columns, model.feature_importances_))\n",
    "feature_importances_sorted = sorted(feature_importances, key=lambda x: x[1], reverse=True)\n",
    "for name, importance in feature_importances_sorted:\n",
    "    print(f\"{name}: {importance:.4f}\")"
   ]
  },
  {
   "cell_type": "markdown",
   "id": "b46beda3",
   "metadata": {},
   "source": [
    "Our random forest performed well, and performed fairly evenly across classes! On to the next classifier!"
   ]
  },
  {
   "cell_type": "markdown",
   "id": "290ae19d",
   "metadata": {},
   "source": [
    "### Logistic Regression Classifier"
   ]
  },
  {
   "cell_type": "code",
   "execution_count": 19,
   "id": "a97c054c",
   "metadata": {},
   "outputs": [
    {
     "name": "stdout",
     "output_type": "stream",
     "text": [
      "Classification Report:\n",
      "              precision    recall  f1-score   support\n",
      "\n",
      "           0       0.86      0.85      0.86        74\n",
      "           1       0.90      0.92      0.91        72\n",
      "           2       0.88      0.88      0.88        74\n",
      "\n",
      "    accuracy                           0.88       220\n",
      "   macro avg       0.88      0.88      0.88       220\n",
      "weighted avg       0.88      0.88      0.88       220\n",
      "\n",
      "--------------------------------\n",
      "Confusion Matrix:\n",
      "[[63  5  6]\n",
      " [ 3 66  3]\n",
      " [ 7  2 65]]\n",
      "--------------------------------\n",
      "Accuracy:\n",
      "0.8818181818181818\n",
      "--------------------------------\n"
     ]
    },
    {
     "name": "stderr",
     "output_type": "stream",
     "text": [
      "/Users/shreyasramulu/Personal Projects/stress/tfenv/lib/python3.11/site-packages/sklearn/linear_model/_logistic.py:473: ConvergenceWarning: lbfgs failed to converge after 100 iteration(s) (status=1):\n",
      "STOP: TOTAL NO. OF ITERATIONS REACHED LIMIT\n",
      "\n",
      "Increase the number of iterations to improve the convergence (max_iter=100).\n",
      "You might also want to scale the data as shown in:\n",
      "    https://scikit-learn.org/stable/modules/preprocessing.html\n",
      "Please also refer to the documentation for alternative solver options:\n",
      "    https://scikit-learn.org/stable/modules/linear_model.html#logistic-regression\n",
      "  n_iter_i = _check_optimize_result(\n"
     ]
    },
    {
     "data": {
      "image/png": "[encoded data removed]",
      "text/plain": [
       "<Figure size 800x500 with 1 Axes>"
      ]
     },
     "metadata": {},
     "output_type": "display_data"
    },
    {
     "name": "stdout",
     "output_type": "stream",
     "text": [
      "--------------------------------\n",
      "Feature Importance (coefficients):\n",
      "blood_pressure: 1.8299\n",
      "social_support: 1.0241\n",
      "mental_health_history: 0.4094\n",
      "academic_performance: 0.2840\n",
      "study_load: -0.2830\n",
      "basic_needs: 0.2474\n",
      "self_esteem: 0.1941\n",
      "headache: -0.1650\n",
      "teacher_student_relationship: 0.1545\n",
      "safety: 0.1495\n",
      "extracurricular_activities: -0.1414\n",
      "sleep_quality: 0.1032\n",
      "depression: -0.0917\n",
      "noise_level: -0.0888\n",
      "peer_pressure: -0.0818\n",
      "anxiety_level: -0.0673\n",
      "breathing_problem: -0.0535\n",
      "bullying: -0.0461\n",
      "living_conditions: -0.0158\n",
      "future_career_concerns: -0.0059\n"
     ]
    }
   ],
   "source": [
    "# train/test split\n",
    "X = df.drop('stress_level', axis=1)\n",
    "y = df['stress_level']\n",
    "\n",
    "X_train, X_test, y_train, y_test = train_test_split(X, y, test_size=0.2, random_state=42, stratify=y)\n",
    "\n",
    "# scaling for continuous variables\n",
    "scaler = StandardScaler()\n",
    "X_train_scaled = X_train.copy()\n",
    "X_test_scaled = X_test.copy()\n",
    "X_train_scaled[continuous_vars] = scaler.fit_transform(X_train[continuous_vars])\n",
    "X_test_scaled[continuous_vars] = scaler.transform(X_test[continuous_vars])\n",
    "\n",
    "# create logistic regression model\n",
    "model = LogisticRegression(random_state=42)\n",
    "model.fit(X_train_scaled, y_train)\n",
    "\n",
    "# test/evaluate model\n",
    "y_pred = model.predict(X_test_scaled)\n",
    "\n",
    "# print classification report\n",
    "print(\"Classification Report:\")\n",
    "print(classification_report(y_test, y_pred))\n",
    "print(\"--------------------------------\")\n",
    "# print confusion matrix\n",
    "print(\"Confusion Matrix:\")\n",
    "print(confusion_matrix(y_test, y_pred))\n",
    "print(\"--------------------------------\")\n",
    "\n",
    "# print accuracy\n",
    "print(\"Accuracy:\")\n",
    "print(accuracy_score(y_test, y_pred))\n",
    "print(\"--------------------------------\")\n",
    "\n",
    "# Calculate precision, recall, f1, and accuracy by class\n",
    "precisions = precision_score(y_test, y_pred, average=None, labels=classes, zero_division=0)\n",
    "recalls = recall_score(y_test, y_pred, average=None, labels=classes, zero_division=0)\n",
    "f1s = f1_score(y_test, y_pred, average=None, labels=classes, zero_division=0)\n",
    "\n",
    "x = np.arange(len(classes))\n",
    "width = 0.25\n",
    "\n",
    "plt.figure(figsize=(8, 5))\n",
    "plt.bar(x - width, precisions, width, label='Precision')\n",
    "plt.bar(x, recalls, width, label='Recall')\n",
    "plt.bar(x + width, f1s, width, label='F1 Score')\n",
    "\n",
    "plt.xlabel('Class')\n",
    "plt.ylabel('Score')\n",
    "plt.title('Precision, Recall, and F1 Score by Class')\n",
    "plt.xticks(x, classes)\n",
    "plt.ylim(0, 1)\n",
    "plt.legend()\n",
    "plt.tight_layout()\n",
    "plt.show()\n",
    "print(\"--------------------------------\")\n",
    "\n",
    "# print feature importance\n",
    "print(\"Feature Importance (coefficients):\")\n",
    "feature_coef_pairs = list(zip(X.columns, model.coef_[0]))\n",
    "feature_coef_pairs_sorted = sorted(feature_coef_pairs, key=lambda x: abs(x[1]), reverse=True)\n",
    "for feature, coef in feature_coef_pairs_sorted:\n",
    "    print(f\"{feature}: {coef:.4f}\")\n"
   ]
  },
  {
   "cell_type": "markdown",
   "id": "e46c9bed",
   "metadata": {},
   "source": [
    "Our logistic regression model also performs well and evenly across classes. However, our random forest still performed slightly better so far."
   ]
  },
  {
   "cell_type": "markdown",
   "id": "df834f27",
   "metadata": {},
   "source": [
    "### Neural Network"
   ]
  },
  {
   "cell_type": "code",
   "execution_count": 20,
   "id": "f54294c0",
   "metadata": {},
   "outputs": [
    {
     "name": "stderr",
     "output_type": "stream",
     "text": [
      "2025-08-27 12:45:02.350254: I tensorflow/core/grappler/optimizers/custom_graph_optimizer_registry.cc:114] Plugin optimizer for device_type GPU is enabled.\n",
      "2025-08-27 12:45:02.376293: E tensorflow/core/grappler/optimizers/meta_optimizer.cc:954] model_pruner failed: INVALID_ARGUMENT: Graph does not contain terminal node AssignAddVariableOp_10.\n"
     ]
    },
    {
     "name": "stdout",
     "output_type": "stream",
     "text": [
      "7/7 [==============================] - 0s 2ms/step\n",
      "Classification Report:\n",
      "              precision    recall  f1-score   support\n",
      "\n",
      "           0       0.89      0.84      0.86        74\n",
      "           1       0.93      0.90      0.92        72\n",
      "           2       0.82      0.89      0.86        74\n",
      "\n",
      "    accuracy                           0.88       220\n",
      "   macro avg       0.88      0.88      0.88       220\n",
      "weighted avg       0.88      0.88      0.88       220\n",
      "\n",
      "--------------------------------\n",
      "Confusion Matrix:\n",
      "[[62  3  9]\n",
      " [ 2 65  5]\n",
      " [ 6  2 66]]\n",
      "--------------------------------\n"
     ]
    },
    {
     "name": "stderr",
     "output_type": "stream",
     "text": [
      "2025-08-27 12:45:10.002294: I tensorflow/core/grappler/optimizers/custom_graph_optimizer_registry.cc:114] Plugin optimizer for device_type GPU is enabled.\n"
     ]
    },
    {
     "data": {
      "image/png": "[encoded data removed]",
      "text/plain": [
       "<Figure size 1000x600 with 1 Axes>"
      ]
     },
     "metadata": {},
     "output_type": "display_data"
    },
    {
     "name": "stdout",
     "output_type": "stream",
     "text": [
      "Accuracy:\n",
      "0.8772727272727273\n",
      "--------------------------------\n",
      "Feature Importance (sorted by absolute value):\n",
      "basic_needs: 0.5217\n",
      "self_esteem: -0.4277\n",
      "blood_pressure: -0.3706\n",
      "headache: 0.3520\n",
      "anxiety_level: 0.3455\n",
      "sleep_quality: 0.2906\n",
      "depression: 0.2824\n",
      "study_load: 0.2531\n",
      "safety: -0.2492\n",
      "breathing_problem: -0.2336\n",
      "extracurricular_activities: 0.2042\n",
      "social_support: -0.1770\n",
      "academic_performance: 0.1712\n",
      "teacher_student_relationship: 0.1557\n",
      "mental_health_history: 0.1413\n",
      "peer_pressure: -0.1347\n",
      "bullying: -0.1324\n",
      "noise_level: -0.0992\n",
      "future_career_concerns: -0.0379\n",
      "living_conditions: -0.0178\n"
     ]
    }
   ],
   "source": [
    "# train/test split\n",
    "X = df.drop('stress_level', axis=1)\n",
    "y = df['stress_level']\n",
    "\n",
    "X_train, X_test, y_train, y_test = train_test_split(X, y, test_size=0.2, random_state=42, stratify=y)\n",
    "\n",
    "# scaling for continuous variables\n",
    "scaler = StandardScaler()\n",
    "X_train_scaled = X_train.copy()\n",
    "X_test_scaled = X_test.copy()\n",
    "X_train_scaled[continuous_vars] = scaler.fit_transform(X_train[continuous_vars])\n",
    "X_test_scaled[continuous_vars] = scaler.transform(X_test[continuous_vars])\n",
    "\n",
    "# If stress_level is multiclass, convert to categorical and use categorical_crossentropy\n",
    "num_classes = len(np.unique(y_train))\n",
    "if num_classes > 2:\n",
    "    # Multiclass classification\n",
    "    y_train_cat = to_categorical(y_train)\n",
    "    y_test_cat = to_categorical(y_test)\n",
    "    model = Sequential()\n",
    "    model.add(Dense(64, input_dim=X_train_scaled.shape[1], activation='relu'))\n",
    "    model.add(Dense(32, activation='relu'))\n",
    "    model.add(Dense(num_classes, activation='softmax'))\n",
    "    model.compile(optimizer=Adam(learning_rate=0.001), loss='categorical_crossentropy', metrics=['accuracy'])\n",
    "    # Train model\n",
    "    model.fit(X_train_scaled, y_train_cat, epochs=30, batch_size=32, verbose=0)\n",
    "    # Predict\n",
    "    y_pred_probs = model.predict(X_test_scaled)\n",
    "    y_pred = np.argmax(y_pred_probs, axis=1)\n",
    "else:\n",
    "    # Binary classification\n",
    "    model = Sequential()\n",
    "    model.add(Dense(64, input_dim=X_train_scaled.shape[1], activation='relu'))\n",
    "    model.add(Dense(32, activation='relu'))\n",
    "    model.add(Dense(1, activation='sigmoid'))\n",
    "    model.compile(optimizer=Adam(learning_rate=0.001), loss='binary_crossentropy', metrics=['accuracy'])\n",
    "    # Train model\n",
    "    model.fit(X_train_scaled, y_train, epochs=30, batch_size=32, verbose=0)\n",
    "    # Predict\n",
    "    y_pred_probs = model.predict(X_test_scaled)\n",
    "    y_pred = (y_pred_probs > 0.5).astype(int).flatten()\n",
    "\n",
    "# print classification report\n",
    "print(\"Classification Report:\")\n",
    "print(classification_report(y_test, y_pred, labels=classes, zero_division=0))\n",
    "print(\"--------------------------------\")\n",
    "\n",
    "# print confusion matrix   \n",
    "print(\"Confusion Matrix:\")\n",
    "print(confusion_matrix(y_test, y_pred, labels=classes))\n",
    "print(\"--------------------------------\")\n",
    "\n",
    "# Visualize precision, recall, f1, and accuracy by class\n",
    "precisions = precision_score(y_test, y_pred, average=None, labels=classes, zero_division=0)\n",
    "recalls = recall_score(y_test, y_pred, average=None, labels=classes, zero_division=0)\n",
    "f1s = f1_score(y_test, y_pred, average=None, labels=classes, zero_division=0)\n",
    "accuracies = []\n",
    "for cls in classes:\n",
    "    idx = (y_test == cls)\n",
    "    if np.sum(idx) > 0:\n",
    "        accuracies.append(accuracy_score(y_test[idx], y_pred[idx]))\n",
    "    else:\n",
    "        accuracies.append(0)\n",
    "\n",
    "metrics = [precisions, recalls, f1s, accuracies]\n",
    "metric_names = ['Precision', 'Recall', 'F1 Score', 'Accuracy']\n",
    "\n",
    "x = np.arange(len(classes))\n",
    "width = 0.2\n",
    "\n",
    "plt.figure(figsize=(10,6))\n",
    "for i, (metric, name) in enumerate(zip(metrics, metric_names)):\n",
    "    plt.bar(x + i*width, metric, width, label=name)\n",
    "\n",
    "plt.xlabel('Class')\n",
    "plt.ylabel('Score')\n",
    "plt.title('Precision, Recall, F1, and Accuracy by Class')\n",
    "plt.xticks(x + width*1.5, classes)\n",
    "plt.ylim(0, 1.05)\n",
    "plt.legend()\n",
    "plt.show()\n",
    "\n",
    "# print accuracy\n",
    "print(\"Accuracy:\")\n",
    "print(accuracy_score(y_test, y_pred))\n",
    "print(\"--------------------------------\")\n",
    "\n",
    "# print feature importance\n",
    "print(\"Feature Importance (sorted by absolute value):\")\n",
    "weights = model.get_weights()[0].flatten()\n",
    "feature_importance = dict(zip(X.columns, weights))\n",
    "sorted_features = sorted(feature_importance.items(), key=lambda x: abs(x[1]), reverse=True)\n",
    "for feature, weight in sorted_features:\n",
    "    print(f\"{feature}: {weight:.4f}\")\n"
   ]
  },
  {
   "cell_type": "markdown",
   "id": "7dca9d9b",
   "metadata": {},
   "source": [
    "Our neural network also performs well, but we can conclude that our random forest performed the best!"
   ]
  },
  {
   "cell_type": "markdown",
   "id": "b69cbc2b",
   "metadata": {},
   "source": [
    "### Packaging Our Model\n",
    "\n",
    "Here, we package our random forest classifier, so it can be used with a streamlit frontend."
   ]
  },
  {
   "cell_type": "code",
   "execution_count": 21,
   "id": "cdf24d7f",
   "metadata": {},
   "outputs": [
    {
     "data": {
      "text/plain": [
       "['stress_random_forest_model.pkl']"
      ]
     },
     "execution_count": 21,
     "metadata": {},
     "output_type": "execute_result"
    }
   ],
   "source": [
    "# Save the trained random forest model\n",
    "joblib.dump(rf, 'stress_random_forest_model.pkl')"
   ]
  },
  {
   "cell_type": "markdown",
   "id": "1b9ea088",
   "metadata": {},
   "source": [
    "### Insights"
   ]
  },
  {
   "cell_type": "markdown",
   "id": "44a15f49",
   "metadata": {},
   "source": [
    "##### Feature Importances\n",
    "**Blood pressure** was the feature with the highest importance in each model, indicating that abnormal blood pressure levels could be a large indicator of higher stress. \n",
    "Aside from blood pressure, **feature importances varied heavily across models**, suggesting that many features play a role in contributing to stress, rather than a select few.\n",
    "\n",
    "##### Best Performing Model\n",
    "All models performed fairly evenly with regard to both evaluation metrics, and performance by individual class. Since our random forest had the highest evaluation metrics (by a very small margin),\n",
    "it would be the ideal model to use. The strong performance of the random forest is unsurprising, due its ability to handle tabular data and ordinal features. "
   ]
  }
 ],
 "metadata": {
  "kernelspec": {
   "display_name": "tfenv",
   "language": "python",
   "name": "python3"
  },
  "language_info": {
   "codemirror_mode": {
    "name": "ipython",
    "version": 3
   },
   "file_extension": ".py",
   "mimetype": "text/x-python",
   "name": "python",
   "nbconvert_exporter": "python",
   "pygments_lexer": "ipython3",
   "version": "3.11.5"
  }
 },
 "nbformat": 4,
 "nbformat_minor": 5
}
